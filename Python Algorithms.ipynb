{
 "cells": [
  {
   "cell_type": "code",
   "execution_count": 16,
   "metadata": {},
   "outputs": [
    {
     "name": "stdout",
     "output_type": "stream",
     "text": [
      "[99, 98, 97, 96, 95, 94, 93, 92, 91, 90, 89, 88, 87, 86, 85, 84, 83, 82, 81, 80, 79, 78, 77, 76, 75, 74, 73, 72, 71, 70, 69, 68, 67, 66, 65, 64, 63, 62, 61, 60, 59, 58, 57, 56, 55, 54, 53, 52, 51, 50, 49, 48, 47, 46, 45, 44, 43, 42, 41, 40, 39, 38, 37, 36, 35, 34, 33, 32, 31, 30, 29, 28, 27, 26, 25, 24, 23, 22, 21, 20, 19, 18, 17, 16, 15, 14, 13, 12, 11, 10, 9, 8, 7, 6, 5, 4, 3, 2, 1, 0]\n"
     ]
    }
   ],
   "source": [
    "count = 10**2\n",
    "nums = []\n",
    "for i in range(count):\n",
    "    nums.append(i)\n",
    "nums.reverse()\n",
    "print(nums)"
   ]
  },
  {
   "cell_type": "code",
   "execution_count": 15,
   "metadata": {},
   "outputs": [
    {
     "name": "stdout",
     "output_type": "stream",
     "text": [
      "[99, 98, 97, 96, 95, 94, 93, 92, 91, 90, 89, 88, 87, 86, 85, 84, 83, 82, 81, 80, 79, 78, 77, 76, 75, 74, 73, 72, 71, 70, 69, 68, 67, 66, 65, 64, 63, 62, 61, 60, 59, 58, 57, 56, 55, 54, 53, 52, 51, 50, 49, 48, 47, 46, 45, 44, 43, 42, 41, 40, 39, 38, 37, 36, 35, 34, 33, 32, 31, 30, 29, 28, 27, 26, 25, 24, 23, 22, 21, 20, 19, 18, 17, 16, 15, 14, 13, 12, 11, 10, 9, 8, 7, 6, 5, 4, 3, 2, 1, 0]\n"
     ]
    }
   ],
   "source": [
    "count = 10**2\n",
    "nums=[]\n",
    "for i in range(count):\n",
    "    nums.insert(0,i)\n",
    "print(nums)"
   ]
  },
  {
   "cell_type": "code",
   "execution_count": 18,
   "metadata": {},
   "outputs": [
    {
     "data": {
      "text/plain": [
       "'d'"
      ]
     },
     "execution_count": 18,
     "metadata": {},
     "output_type": "execute_result"
    }
   ],
   "source": [
    "class Node:\n",
    "    def __init__(self, value, next = None):\n",
    "        self.value = value\n",
    "        self.next = next\n",
    "L = Node(\"a\",Node(\"b\",Node(\"c\",Node(\"d\"))))\n",
    "L.next.next.next.value"
   ]
  },
  {
   "cell_type": "code",
   "execution_count": 20,
   "metadata": {},
   "outputs": [
    {
     "data": {
      "text/plain": [
       "0.6360825509400261"
      ]
     },
     "execution_count": 20,
     "metadata": {},
     "output_type": "execute_result"
    }
   ],
   "source": [
    "import timeit\n",
    "timeit.timeit(\"x=2+2\")\n",
    "timeit.timeit(\"x=sum(range(10))\")"
   ]
  },
  {
   "cell_type": "code",
   "execution_count": 23,
   "metadata": {},
   "outputs": [
    {
     "data": {
      "text/plain": [
       "4457642062143785016"
      ]
     },
     "execution_count": 23,
     "metadata": {},
     "output_type": "execute_result"
    }
   ],
   "source": [
    "hash(42)\n",
    "hash(\"hello,world!\")"
   ]
  },
  {
   "cell_type": "code",
   "execution_count": 26,
   "metadata": {},
   "outputs": [
    {
     "name": "stdout",
     "output_type": "stream",
     "text": [
      "[{1, 2, 3, 4, 5}, {2, 4}, {3}, {4}, {5}, {2, 6, 7}, {5, 7}, {5, 6}]\n",
      "True\n",
      "3\n"
     ]
    }
   ],
   "source": [
    "a,b,c,d,e,f,g,h=range(8)\n",
    "N=[\n",
    "    {b,c,d,e,f}, #a\n",
    "    {c,e},#b\n",
    "    {d},#c\n",
    "    {e},#d\n",
    "    {f},#e\n",
    "    {c,g,h},#f\n",
    "    {f,h},#g\n",
    "    {f,g}#h\n",
    "]\n",
    "print(N)\n",
    "print(b in N[a])\n",
    "print(len(N[f]))"
   ]
  },
  {
   "cell_type": "code",
   "execution_count": 27,
   "metadata": {},
   "outputs": [
    {
     "name": "stdout",
     "output_type": "stream",
     "text": [
      "[[1, 2, 3, 4, 5], [2, 4], [3], [4], [5], [2, 6, 7], [5, 7], [5, 6]]\n",
      "True\n",
      "3\n"
     ]
    }
   ],
   "source": [
    "a,b,c,d,e,f,g,h=range(8)\n",
    "N=[\n",
    "    [b,c,d,e,f], #a\n",
    "    [c,e],#b\n",
    "    [d],#c\n",
    "    [e],#d\n",
    "    [f],#e\n",
    "    [c,g,h],#f\n",
    "    [f,h],#g\n",
    "    [f,g]#h\n",
    "]\n",
    "print(N)\n",
    "print(b in N[a])\n",
    "print(len(N[f]))"
   ]
  },
  {
   "cell_type": "code",
   "execution_count": 34,
   "metadata": {},
   "outputs": [
    {
     "name": "stdout",
     "output_type": "stream",
     "text": [
      "[{1: 2, 2: 1, 3: 3, 4: 9, 5: 4}, {2: 4, 4: 3}, {3: 8}, {4: 7}, {5: 5}, {2: 2, 6: 2, 7: 2}, {5: 1, 7: 6}, {5: 9, 6: 8}]\n",
      "True\n",
      "3\n",
      "0 1\n",
      "2\n"
     ]
    }
   ],
   "source": [
    "a,b,c,d,e,f,g,h=range(8)\n",
    "N=[\n",
    "    {b:2,c:1,d:3,e:9,f:4}, #a\n",
    "    {c:4,e:3},#b\n",
    "    {d:8},#c\n",
    "    {e:7},#d\n",
    "    {f:5},#e\n",
    "    {c:2,g:2,h:2},#f\n",
    "    {f:1,h:6},#g\n",
    "    {f:9,g:8}#h\n",
    "]\n",
    "print(N)\n",
    "print(b in N[a])\n",
    "print(len(N[f]))\n",
    "print(a,b)\n",
    "print(N[a][b])"
   ]
  },
  {
   "cell_type": "code",
   "execution_count": 37,
   "metadata": {},
   "outputs": [
    {
     "name": "stdout",
     "output_type": "stream",
     "text": [
      "{'a': {'b', 'e', 'f', 'c', 'd'}, 'b': {'c', 'e'}, 'c': {'d'}, 'd': {'e'}, 'e': {'f'}, 'f': {'g', 'h', 'c'}, 'g': {'f', 'h'}, 'h': {'g', 'f'}}\n"
     ]
    }
   ],
   "source": [
    "a,b,c,d,e,f,g,h=range(8)\n",
    "N={\n",
    "    'a':set('bcdef'),\n",
    "    'b':set('ce'),\n",
    "    'c':set('d'),\n",
    "    'd':set('e'),\n",
    "    'e':set('f'),\n",
    "    'f':set('cgh'),\n",
    "    'g':set('fh'),\n",
    "    'h':set('fg')\n",
    "    }\n",
    "print(N)\n"
   ]
  },
  {
   "cell_type": "code",
   "execution_count": 41,
   "metadata": {},
   "outputs": [
    {
     "name": "stdout",
     "output_type": "stream",
     "text": [
      "[[0, 1, 1, 1, 1, 1, 0, 0], [0, 0, 1, 0, 1, 0, 0, 0], [0, 0, 0, 1, 0, 0, 0, 0], [0, 0, 0, 0, 1, 0, 0, 0], [0, 0, 0, 0, 0, 1, 0, 0], [0, 0, 1, 0, 0, 0, 1, 1], [0, 0, 0, 0, 0, 0, 0, 1], [0, 0, 0, 0, 0, 1, 1, 0]]\n",
      "True\n",
      "8\n",
      "1\n",
      "3\n"
     ]
    }
   ],
   "source": [
    "a,b,c,d,e,f,g,h=range(8)\n",
    "N=[\n",
    "    [0,1,1,1,1,1,0,0], #a\n",
    "    [0,0,1,0,1,0,0,0],#b\n",
    "    [0,0,0,1,0,0,0,0],#c\n",
    "    [0,0,0,0,1,0,0,0],#d\n",
    "    [0,0,0,0,0,1,0,0],#e\n",
    "    [0,0,1,0,0,0,1,1],#f\n",
    "    [0,0,0,0,0,0,0,1],#g\n",
    "    [0,0,0,0,0,1,1,0]#h\n",
    "]\n",
    "print(N)\n",
    "print(b in N[a])\n",
    "print(len(N[f]))\n",
    "print(N[a][b])\n",
    "print(sum(N[f]))"
   ]
  },
  {
   "cell_type": "code",
   "execution_count": 49,
   "metadata": {},
   "outputs": [
    {
     "name": "stdout",
     "output_type": "stream",
     "text": [
      "[[0, 2, 1, 3, 9, 4, inf, inf], [inf, 0, 4, inf, 3, inf, inf, inf], [inf, inf, 0, 8, inf, inf, inf, inf], [inf, inf, inf, 0, 7, inf, inf, inf], [inf, inf, inf, inf, 0, 5, inf, inf], [inf, inf, 2, inf, inf, 0, 2, 2], [inf, inf, inf, inf, inf, 1, 0, 6], [inf, inf, inf, inf, inf, 9, 8, 0]]\n",
      "True\n",
      "8\n",
      "2\n",
      "inf\n",
      "True\n",
      "False\n",
      "6\n"
     ]
    }
   ],
   "source": [
    "a,b,c,d,e,f,g,h=range(8)\n",
    "_=float('inf')\n",
    "N=[\n",
    "    [0,2,1,3,9,4,_,_], #a\n",
    "    [_,0,4,_,3,_,_,_],#b\n",
    "    [_,_,0,8,_,_,_,_],#c\n",
    "    [_,_,_,0,7,_,_,_],#d\n",
    "    [_,_,_,_,0,5,_,_],#e\n",
    "    [_,_,2,_,_,0,2,2],#f\n",
    "    [_,_,_,_,_,1,0,6],#g\n",
    "    [_,_,_,_,_,9,8,0]#h\n",
    "]\n",
    "print(N)\n",
    "print(b in N[a])\n",
    "print(len(N[f]))\n",
    "print(N[a][b])\n",
    "print(sum(N[f]))\n",
    "\n",
    "print(N[a][b]<_)\n",
    "print(N[c][e]<_)\n",
    "print(sum(1 for n in N[a] if n < _))"
   ]
  },
  {
   "cell_type": "code",
   "execution_count": 51,
   "metadata": {},
   "outputs": [
    {
     "name": "stdout",
     "output_type": "stream",
     "text": [
      "[[0, 0, 0, 0, 0, 0, 0, 0, 0, 0], [0, 0, 0, 0, 0, 0, 0, 0, 0, 0], [0, 0, 0, 0, 0, 0, 0, 0, 0, 0], [0, 0, 0, 0, 0, 0, 0, 0, 0, 0], [0, 0, 0, 0, 0, 0, 0, 0, 0, 0], [0, 0, 0, 0, 0, 0, 0, 0, 0, 0], [0, 0, 0, 0, 0, 0, 0, 0, 0, 0], [0, 0, 0, 0, 0, 0, 0, 0, 0, 0], [0, 0, 0, 0, 0, 0, 0, 0, 0, 0], [0, 0, 0, 0, 0, 0, 0, 0, 0, 0]]\n"
     ]
    }
   ],
   "source": [
    "#numpy\n",
    "n = [[0] * 10 for i in range(10)]\n",
    "print(n)"
   ]
  },
  {
   "cell_type": "code",
   "execution_count": 53,
   "metadata": {},
   "outputs": [
    {
     "name": "stdout",
     "output_type": "stream",
     "text": [
      "[[0. 0. 0. 0. 0. 0. 0. 0. 0. 0.]\n",
      " [0. 0. 0. 0. 0. 0. 0. 0. 0. 0.]\n",
      " [0. 0. 0. 0. 0. 0. 0. 0. 0. 0.]\n",
      " [0. 0. 0. 0. 0. 0. 0. 0. 0. 0.]\n",
      " [0. 0. 0. 0. 0. 0. 0. 0. 0. 0.]\n",
      " [0. 0. 0. 0. 0. 0. 0. 0. 0. 0.]\n",
      " [0. 0. 0. 0. 0. 0. 0. 0. 0. 0.]\n",
      " [0. 0. 0. 0. 0. 0. 0. 0. 0. 0.]\n",
      " [0. 0. 0. 0. 0. 0. 0. 0. 0. 0.]\n",
      " [0. 0. 0. 0. 0. 0. 0. 0. 0. 0.]]\n"
     ]
    }
   ],
   "source": [
    "import numpy as np\n",
    "n = np.zeros([10,10])\n",
    "print(n)"
   ]
  },
  {
   "cell_type": "code",
   "execution_count": 55,
   "metadata": {},
   "outputs": [
    {
     "name": "stdout",
     "output_type": "stream",
     "text": [
      "b\n",
      "e\n"
     ]
    }
   ],
   "source": [
    "t=[[\"a\",\"b\"],[\"c\"],[\"d\",[\"e\",\"f\"]]]\n",
    "print(t[0][1])\n",
    "print(t[2][1][0])"
   ]
  },
  {
   "cell_type": "code",
   "execution_count": 56,
   "metadata": {},
   "outputs": [
    {
     "data": {
      "text/plain": [
       "'c'"
      ]
     },
     "execution_count": 56,
     "metadata": {},
     "output_type": "execute_result"
    }
   ],
   "source": [
    "class Tree:\n",
    "    def __init__(self,left,right):\n",
    "        self.left = left\n",
    "        self.right = right\n",
    "t=Tree(Tree(\"a\",\"b\"),Tree(\"c\",\"d\"))\n",
    "t.right.left"
   ]
  },
  {
   "cell_type": "code",
   "execution_count": 60,
   "metadata": {},
   "outputs": [
    {
     "data": {
      "text/plain": [
       "'c'"
      ]
     },
     "execution_count": 60,
     "metadata": {},
     "output_type": "execute_result"
    }
   ],
   "source": [
    "class Tree:\n",
    "    def __init__(self,kids,next = None):\n",
    "        self.kids = self.val=kids\n",
    "        self.next = next\n",
    "t=Tree(Tree(\"a\",Tree(\"b\",Tree(\"c\",Tree(\"d\")))))\n",
    "t.kids.next.next.kids\n",
    "t.kids.next.next.val"
   ]
  },
  {
   "cell_type": "code",
   "execution_count": null,
   "metadata": {},
   "outputs": [],
   "source": []
  },
  {
   "cell_type": "code",
   "execution_count": null,
   "metadata": {},
   "outputs": [],
   "source": []
  },
  {
   "cell_type": "code",
   "execution_count": null,
   "metadata": {},
   "outputs": [],
   "source": []
  }
 ],
 "metadata": {
  "kernelspec": {
   "display_name": "Python 3",
   "language": "python",
   "name": "python3"
  },
  "language_info": {
   "codemirror_mode": {
    "name": "ipython",
    "version": 3
   },
   "file_extension": ".py",
   "mimetype": "text/x-python",
   "name": "python",
   "nbconvert_exporter": "python",
   "pygments_lexer": "ipython3",
   "version": "3.6.4"
  }
 },
 "nbformat": 4,
 "nbformat_minor": 2
}
